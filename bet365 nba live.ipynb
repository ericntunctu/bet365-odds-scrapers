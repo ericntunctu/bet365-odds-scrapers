{
 "cells": [
  {
   "cell_type": "code",
   "execution_count": 20,
   "metadata": {},
   "outputs": [
    {
     "data": {
      "text/plain": [
       "[[None, None, None, None, None],\n",
       " [None, None, None, None, None],\n",
       " [None, '', None, None, ''],\n",
       " ['DET Pistons', '-120', None, None, ''],\n",
       " ['NY Knicks', '-115', None, None, ''],\n",
       " ['ORL Magic', '-115', None, None, ''],\n",
       " ['BOS Celtics', '+100', None, None, ''],\n",
       " ['MIA Heat', '-130', None, None, ''],\n",
       " ['PHI 76ers', '-105', None, None, ''],\n",
       " ['ATL Hawks', '-125', None, None, ''],\n",
       " ['TOR Raptors', '', None, None, ''],\n",
       " ['BKN Nets', '', None, None, ''],\n",
       " ['CHA Hornets', '-115', None, None, ''],\n",
       " ['NO Pelicans', '-115', None, None, ''],\n",
       " ['MIN Timberwolves', '-120', None, None, ''],\n",
       " ['DAL Mavericks', '-110', None, None, ''],\n",
       " [None, '-105', None, None, ''],\n",
       " [None, '-115', None, None, '']]"
      ]
     },
     "execution_count": 20,
     "metadata": {},
     "output_type": "execute_result"
    }
   ],
   "source": [
    "import urllib\n",
    "from selenium import webdriver\n",
    "import urllib.request\n",
    "import time\n",
    "import re\n",
    "from selenium.webdriver.common.keys import Keys\n",
    "\n",
    "\n",
    "driver = webdriver.Chrome(executable_path=\"/Users/kuoenjui/Desktop/test/chromedriver\") # choose the  webdriver location (chrome)\n",
    "driver.get(\"https://www.bet365.com/#/AS/B16/\")  # comics url\n",
    "\n",
    "\n",
    "driver.find_element_by_xpath('//*[@id=\"dv1\"]/a/div[2]/div[1]/div').click()\n",
    "time.sleep(0.5)\n",
    "\n",
    "\n",
    "def tr(f):\n",
    "    try:\n",
    "        driver.find_element_by_xpath(f).text\n",
    "    except:\n",
    "        return False\n",
    "    \n",
    "    \n",
    "while(tr('/html/body/div[1]/div/div[2]/div[1]/div/div[1]/div/div/div[7]')==False):\n",
    "    tr('/html/body/div[1]/div/div[2]/div[1]/div/div[1]/div/div/div[7]')\n",
    "driver.find_element_by_xpath('/html/body/div[1]/div/div[2]/div[1]/div/div[1]/div/div/div[7]').click()\n",
    "    \n",
    "        \n",
    "                      \n",
    "    \n",
    "    \n",
    "while(tr('/html/body/div[1]/div/div[2]/div[1]/div/div[2]/div[2]/div[1]/div[2]/div[2]/div[1]/div[2]/div[1]/div[2]')==False):\n",
    "     tr('/html/body/div[1]/div/div[2]/div[1]/div/div[2]/div[2]/div[1]/div[2]/div[2]/div[1]/div[2]/div[1]/div[2]')\n",
    "driver.find_element_by_xpath('/html/body/div[1]/div/div[2]/div[1]/div/div[2]/div[2]/div[1]/div[2]/div[2]/div[1]/div[2]/div[1]/div[2]').click()\n",
    "                                     \n",
    "\n",
    "\n",
    "\n",
    "\n",
    "def fi(a):\n",
    "    try:\n",
    "        driver.find_element_by_xpath(a).text\n",
    "    except:\n",
    "        return False\n",
    "def ffi(a):\n",
    "    if(fi(a)!=False):\n",
    "         return driver.find_element_by_xpath(a).text\n",
    "\n",
    "\n",
    "## create a 2d array\n",
    "b=[]\n",
    "for i in range(2,20):\n",
    "    a=[]\n",
    "    a.append(ffi('/html/body/div[1]/div/div[2]/div[1]/div/div[2]/div[2]/div/div[2]/div[2]/div/div[2]/div['+str(i)+']/div[2]/div[1]'))\n",
    "    a.append(ffi('/html/body/div[1]/div/div[2]/div[1]/div/div[2]/div[2]/div/div[2]/div[2]/div/div[3]/div['+str(i)+']/span[2]'))\n",
    "    a.append(ffi('/html/body/div[1]/div/div[2]/div[1]/div/div[2]/div[2]/div/div[2]/div[2]/div/div[3]/div['+str(i)+']/span[3]'))\n",
    "    a.append(ffi('/html/body/div[1]/div/div[2]/div[1]/div/div[2]/div[2]/div/div[2]/div[2]/div/div[4]/div['+str(i)+']/span[3]'))\n",
    "    a.append(ffi('/html/body/div[1]/div/div[2]/div[1]/div/div[2]/div[2]/div/div[2]/div[2]/div/div[5]/div['+str(i)+']/span'))\n",
    "    b.append(a)\n",
    "b"
   ]
  },
  {
   "cell_type": "code",
   "execution_count": 23,
   "metadata": {},
   "outputs": [
    {
     "data": {
      "text/plain": [
       "[['CHI Bulls', '+3.5', '-105', 'O 226.5', '-115', '+260'],\n",
       " ['WAS Wizards', '-3.5', '-125', 'U 226.5', '-115', '-340'],\n",
       " ['IND Pacers', '-10.5', '-110', 'O 194.5', '-105', '-2200'],\n",
       " ['DET Pistons', '+10.5', '-120', 'U 194.5', '-125', '+1125'],\n",
       " ['NY Knicks', '', '', '', '', ''],\n",
       " ['ORL Magic', '', '', '', '', ''],\n",
       " ['BOS Celtics', '-2.5', '-115', 'O 216.5', '-115', '-160'],\n",
       " ['MIA Heat', '+2.5', '-115', 'U 216.5', '-115', '+130'],\n",
       " ['PHI 76ers', '-3.5', '-115', 'O 260.5', '-110', '-200'],\n",
       " ['ATL Hawks', '+3.5', '-115', 'U 260.5', '-120', '+165'],\n",
       " ['TOR Raptors', '-9.5', '-115', 'O 221.5', '-110', '-600'],\n",
       " ['BKN Nets', '+9.5', '-115', 'U 221.5', '-120', '+425'],\n",
       " ['CHA Hornets', '-6.5', '-115', 'O 224.5', '-115', '-360'],\n",
       " ['NO Pelicans', '+6.5', '-115', 'U 224.5', '-115', '+270'],\n",
       " ['MIN Timberwolves', '-1.5', '-110', 'O 228.5', '-115', '-125'],\n",
       " ['DAL Mavericks', '+1.5', '-120', 'U 228.5', '-115', '-105'],\n",
       " [None, '+4.5', '-105', 'O 214.5', '-110', '+170'],\n",
       " [None, '-4.5', '-115', 'U 214.5', '-110', '-200']]"
      ]
     },
     "execution_count": 23,
     "metadata": {},
     "output_type": "execute_result"
    }
   ],
   "source": [
    "b=[]\n",
    "for i in range(2,20):\n",
    "    a=[]\n",
    "    a.append(ffi('/html/body/div[1]/div/div[2]/div[1]/div/div[2]/div[2]/div/div[2]/div[2]/div/div[2]/div['+str(i)+']/div[2]/div[1]'))\n",
    "    a.append(ffi('/html/body/div[1]/div/div[2]/div[1]/div/div[2]/div[2]/div/div[2]/div[2]/div/div[3]/div['+str(i)+']/span[1]'))\n",
    "    a.append(ffi('/html/body/div[1]/div/div[2]/div[1]/div/div[2]/div[2]/div/div[2]/div[2]/div/div[3]/div['+str(i)+']/span[2]'))\n",
    "    a.append(ffi('/html/body/div[1]/div/div[2]/div[1]/div/div[2]/div[2]/div/div[2]/div[2]/div/div[4]/div['+str(i)+']/span[1]'))\n",
    "    a.append(ffi(' /html/body/div[1]/div/div[2]/div[1]/div/div[2]/div[2]/div/div[2]/div[2]/div/div[4]/div['+str(i)+']/span[2]'))\n",
    "    a.append(ffi('/html/body/div[1]/div/div[2]/div[1]/div/div[2]/div[2]/div/div[2]/div[2]/div/div[5]/div['+str(i)+']/span[2]'))\n",
    "    b.append(a)\n",
    "b\n"
   ]
  },
  {
   "cell_type": "code",
   "execution_count": null,
   "metadata": {},
   "outputs": [],
   "source": []
  }
 ],
 "metadata": {
  "kernelspec": {
   "display_name": "Python 3",
   "language": "python",
   "name": "python3"
  },
  "language_info": {
   "codemirror_mode": {
    "name": "ipython",
    "version": 3
   },
   "file_extension": ".py",
   "mimetype": "text/x-python",
   "name": "python",
   "nbconvert_exporter": "python",
   "pygments_lexer": "ipython3",
   "version": "3.5.6"
  }
 },
 "nbformat": 4,
 "nbformat_minor": 2
}
